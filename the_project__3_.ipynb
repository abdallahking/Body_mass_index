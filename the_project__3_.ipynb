{
  "nbformat": 4,
  "nbformat_minor": 0,
  "metadata": {
    "colab": {
      "provenance": []
    },
    "kernelspec": {
      "name": "python3",
      "display_name": "Python 3"
    },
    "language_info": {
      "name": "python"
    }
  },
  "cells": [
    {
      "cell_type": "markdown",
      "source": [
        "## The third project **:**\n",
        "**(**Body mass index**)**"
      ],
      "metadata": {
        "id": "vc0S37VZ0bIs"
      }
    },
    {
      "cell_type": "code",
      "source": [
        "print('''tip:\n",
        "this program is not for [children(<19), Pregnant women]''')\n",
        "name = input(\"please enter your name: \")\n",
        "if name == \"Abdallah\" :\n",
        "  print(\"Oh your name is the same of my name!\")\n",
        "  print(f'''welcome {name} in your program :\n",
        "  (Body mass index)\n",
        "  ''')\n",
        "elif name == \"Abdallah.\":\n",
        "  print('''welcome my king in your program:\n",
        "  (Body mass index)\n",
        "  ''')\n",
        "else :\n",
        "  print(f'''welcome {name} in my program:\n",
        "  (Body mass index)\n",
        "  ''')\n",
        "print('''Look this is levels of the Body mass index :\n",
        "1- under weight\n",
        "2- normal\n",
        "3- Over weight\n",
        "4- Obese\n",
        "5- Extremely obese\n",
        "''')\n",
        "\n",
        "weight = int(input(\"Please inter your weight: \"))\n",
        "tall = float(input(\"Please inter your tall: \"))\n",
        "print(\"\\n\")\n",
        "math = weight / (tall**2)\n",
        "\n",
        "print(f'''your Body mass index is {int(math)}.''')\n",
        "\n",
        "if math <= 18.5:\n",
        "  print(f\"Look {name}.You are (under weight).\")\n",
        "  print('''You should have 3 meals and eat well.\n",
        "  to being better.''')\n",
        "elif float(math) >= 18.5 and float(math) <= 24.9:\n",
        "  print(f\"Look {name}.You are (normal).\")\n",
        "  print(\"Keep your system👍, and don't change it👏🏻.\")\n",
        "elif math >= 25 and math <= 29.9:\n",
        "  print(f\"Look {name} you are (Over weight).\")\n",
        "  print('''You should reduce your food and do an exercise (runing, go to gym...)\n",
        "  everyday to being better.''')\n",
        "elif math >= 30 and math <= 34.9:\n",
        "  print(f\"Look {name} you are (Obese).\")\n",
        "  print('''you should reduce your food and do an exercise (runing, go to gym...)\n",
        "  for a hour everyday.''')\n",
        "elif math >= 35 :\n",
        "  print(f\"{name} you are (Extremely obese).\")\n",
        "  print('''You are in a very dangerous condition\n",
        "  you should go to the docter and now yes now.''')\n",
        "\n",
        "print(\"============== END OF THE BROGRAM ==============\")"
      ],
      "metadata": {
        "id": "E7w0L6qC1AJJ"
      },
      "execution_count": null,
      "outputs": []
    }
  ]
}